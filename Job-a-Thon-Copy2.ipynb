{
 "cells": [
  {
   "cell_type": "code",
   "execution_count": 1,
   "metadata": {},
   "outputs": [],
   "source": [
    "# importing libraries\n",
    "import pandas as pd\n",
    "import numpy as np\n",
    "import matplotlib.pyplot as plt\n",
    "import seaborn as sns\n",
    "from sklearn.preprocessing import LabelEncoder\n",
    "from sklearn.model_selection import train_test_split\n",
    "from sklearn.preprocessing import StandardScaler"
   ]
  },
  {
   "cell_type": "code",
   "execution_count": 2,
   "metadata": {},
   "outputs": [],
   "source": [
    "# importing dataset\n",
    "train = pd.read_csv(\"train.csv\")\n",
    "train = train.set_index('ID')"
   ]
  },
  {
   "cell_type": "code",
   "execution_count": 3,
   "metadata": {},
   "outputs": [],
   "source": [
    "test = pd.read_csv(\"test.csv\")\n",
    "test = test.set_index('ID')"
   ]
  },
  {
   "cell_type": "code",
   "execution_count": 4,
   "metadata": {},
   "outputs": [],
   "source": [
    "# filling missing values\n",
    "train = train.fillna(train['Credit_Product'].value_counts().index[0])\n",
    "test= test.fillna(test['Credit_Product'].value_counts().index[0])"
   ]
  },
  {
   "cell_type": "code",
   "execution_count": 5,
   "metadata": {},
   "outputs": [],
   "source": [
    "# encoding categorical values for training set\n",
    "lb_make = LabelEncoder()\n",
    "\n",
    "for i in train.columns:\n",
    "    if train[i].dtype == 'object':\n",
    "        train[i] = lb_make.fit_transform(train[i])\n"
   ]
  },
  {
   "cell_type": "code",
   "execution_count": 6,
   "metadata": {},
   "outputs": [],
   "source": [
    "# encoding categorical values for testing set\n",
    "lb_make = LabelEncoder()\n",
    "\n",
    "for i in test.columns:\n",
    "    if test[i].dtype == 'object':\n",
    "        test[i] = lb_make.fit_transform(test[i])\n",
    "\n"
   ]
  },
  {
   "cell_type": "code",
   "execution_count": 7,
   "metadata": {},
   "outputs": [],
   "source": [
    "# splitting data into training and testing\n",
    "X = train.drop('Is_Lead', axis=1)\n",
    "y = train['Is_Lead']\n",
    "\n",
    "X_train, X_test, y_train, y_test = train_test_split(X, y, test_size = 0.2)"
   ]
  },
  {
   "cell_type": "code",
   "execution_count": null,
   "metadata": {},
   "outputs": [],
   "source": [
    "# Standard python libraries\n",
    "import os\n",
    "import time\n",
    "import logging\n",
    " \n",
    "# Installed libraries\n",
    "import numpy as np\n",
    "import pandas as pd\n",
    "from sklearn.metrics import roc_auc_score\n",
    "from sklearn.model_selection import train_test_split\n",
    "import torch\n",
    "# Imports from our package\n",
    "import lightautoml\n",
    "from lightautoml.automl.base import AutoML\n",
    "from lightautoml.ml_algo.boost_lgbm import BoostLGBM\n",
    "from lightautoml.ml_algo.tuning.optuna import OptunaTuner\n",
    "from lightautoml.pipelines.features.lgb_pipeline import LGBSimpleFeatures\n",
    "from lightautoml.pipelines.ml.base import MLPipeline\n",
    "from lightautoml.pipelines.selection.importance_based import ImportanceCutoffSelector, ModelBasedImportanceEstimator\n",
    "from lightautoml.reader.base import PandasToPandasReader\n",
    "from lightautoml.tasks import Task\n",
    "from lightautoml.utils.profiler import Profiler\n",
    "from lightautoml.automl.blend import WeightedBlender\n",
    "from lightautoml.dataset.roles import DatetimeRole\n",
    "from lightautoml.automl.presets.tabular_presets import TabularAutoML, TabularUtilizedAutoML\n",
    "from lightautoml.report import ReportDeco"
   ]
  },
  {
   "cell_type": "code",
   "execution_count": null,
   "metadata": {},
   "outputs": [],
   "source": [
    "#define all the parameters\n",
    "N_THREADS = 8 # threads cnt for lgbm and linear models\n",
    "N_FOLDS = 5 # folds cnt for AutoML\n",
    "RANDOM_STATE = 42 # fixed random state for various reasons\n",
    "TEST_SIZE = 0.2 # Test size for metric check\n",
    "TARGET_NAME = 'Is_Lead' # Target column name"
   ]
  },
  {
   "cell_type": "code",
   "execution_count": null,
   "metadata": {},
   "outputs": [],
   "source": [
    "# Change profiling decorators settings\n",
    "#By default, profiling decorators are turned off for speed and memory reduction. \n",
    "#If you want to see profiling report after using LAMA, you need to turn on the decorators using command below:\n",
    "#create a Profile object to get the profile report\n",
    "p = Profiler()\n",
    "p.change_deco_settings({'enabled': True})\n",
    "\n"
   ]
  },
  {
   "cell_type": "code",
   "execution_count": 15,
   "metadata": {},
   "outputs": [],
   "source": [
    "# from xgboost import XGBClassifier\n",
    "# from sklearn.metrics import roc_auc_score\n",
    "# xgb = XGBClassifier(eta=0.3,objective= 'binary:logistic',tree_method= 'gpu_hist',num_parallel_tree= 500,)\n",
    "# xgb.fit(X_train, y_train)\n",
    "# predictions = xgb.predict_proba(X_test)\n",
    "# # print(type(model).__name__)\n",
    "# print(\"    AUC_SCORE\", roc_auc_score(y_test, predictions[:,1]))"
   ]
  },
  {
   "cell_type": "code",
   "execution_count": 39,
   "metadata": {},
   "outputs": [],
   "source": [
    "result = xgb.predict_proba(test)"
   ]
  },
  {
   "cell_type": "code",
   "execution_count": 40,
   "metadata": {},
   "outputs": [],
   "source": [
    "df=pd.read_csv(\"test.csv\")\n",
    "ID = df[\"ID\"]\n",
    "res = pd.DataFrame(ID)\n",
    "res.columns = [\"ID\"]\n",
    "abc= pd.DataFrame(result)\n",
    "res[\"Is_Lead\"] = abc[1]\n",
    "res.head()\n",
    "res.to_csv(\"submission.csv\",index=False)\n",
    "#res[\"Is_Lead\"] = result[0]\n",
    "# res.to_csv(\"submission.csv\",index=False)"
   ]
  }
 ],
 "metadata": {
  "kernelspec": {
   "display_name": "Python 3",
   "language": "python",
   "name": "python3"
  },
  "language_info": {
   "codemirror_mode": {
    "name": "ipython",
    "version": 3
   },
   "file_extension": ".py",
   "mimetype": "text/x-python",
   "name": "python",
   "nbconvert_exporter": "python",
   "pygments_lexer": "ipython3",
   "version": "3.7.9"
  }
 },
 "nbformat": 4,
 "nbformat_minor": 4
}
